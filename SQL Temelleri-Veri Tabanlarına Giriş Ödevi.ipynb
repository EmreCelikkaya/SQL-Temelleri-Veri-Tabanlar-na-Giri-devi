{
 "cells": [
  {
   "cell_type": "markdown",
   "metadata": {},
   "source": [
    "# SQL Temelleri-Veri Tabanlarına Giriş Ödevi\n",
    "1-)Veri tabanları ne işe yarar? SQL'i hangi amaçlarla kullanırız?\n",
    "\n",
    "2-)Derste değişik tablo türlerinden bahsettik (raw tables/processed tables/roll-up tables). Bir veri bilimci olarak, hangi tablonun hangi tür veriler ya da uygulamalar için uygun olduğunu kestirebiliyor musunuz? Herbir tür için, uygun olduğunu düşündüğünüz bir veri yapısı belirleyin ve önerilerinizi mentörünüzle tartışın.\n",
    "\n"
   ]
  },
  {
   "cell_type": "markdown",
   "metadata": {},
   "source": [
    "### 1-) Database Veritabanı Nedir? Ne İşe Yarar?\n",
    "\n",
    "Günümüzde Web uygulamalarının birçoğu ve özellikle de dinamik Web uygulamaları için mutlaka bir veri tabanı ihtiyacı duyulur. İsminden de anlaşıldığı üzere, bilgilerin bazı prosedürlere göre barındırıldığı ortamlardır.\n",
    "\n",
    "Bilgilerin uygun şekillerde kaydedilmesini ve güncellenmesini sağlayan, bu bilgiler üzerinde gelişmiş sorgular yapılabilen veri tabanına database de denilmektedir. Çağımızda bilgi yönetimleri için olmazsa olmaz yapılardan biridir. Yaptığımız araştırmalar sonrasında çok önemli bir yapı olan veri tabanının tüm özelliklerine aşağıda yer verilmiştir.\n",
    "\n",
    "Veri Tabanı ( Database ) ve Özellikleri\n",
    "\n",
    "Diğer bir ismi ile db olarak bilinen database, verilerin belirli bir alanda depolanmasını sağlamaktadır. Özellikle devlet kurumlarında kullanılan bu sistem ile birçok veri rahatlıkla saklanabilmektedir. Belirli bir düzene göre uyarlanan bu sistemi birçok kuruluş kullanıyor.\n",
    "\n",
    "Db sayesinde milyonlarca kişinin bilgisine kısa süre içerisinde ulaşılmaktadır. Nüfus müdürlükleri, okul kayıtları, bankalar ve buna benzer birçok kurumda verilen hizmetlerin daha pratik olması bu sistem ile mümkün hale gelmiştir.\n",
    "\n",
    "Bir yazılımcı ya da web programcısı için çok önemli bir konu olan database sistemi geliştirilebilen bir yapıdadır. Bu sayede herhangi bir proje daha ileriki aşamalara çok daha kolay geçirilebilmektedir. Bu mantığı kavramak kolay olsa da, ileriye dönük çalışmalar yapmak zordur. Bu nedenle bu sistemin en\n",
    "iyi şekilde öğrenilmesi gerekir.\n",
    "\n",
    "Veri Tabanı ( Databese ) Ne İşe Yarar?\n",
    "\n",
    "Farklı yazılım'ları bulunan veri tabanı türlerinin her birinin temel amacı verileri saklamak ve yönetebilmektir. Bu sistemde bilgiler tablolar ile saklanır. Bu sayede her bilgi birden fazla alan tarafından tanımlanır.  Ayrıca her bilginin benzersiz bir şekilde tanımlanmış olduğu ID numarası da bulunmaktadır.\n",
    "\n",
    "Birçok yazılım bilgileri derlese de sql veri tabanı ile diğer türlerde bilgiler daha hızlı ve verimli olarak yönetilip değiştirilmektedir. Bu sayede ihtiyaç duyulan her an bilgiye kolay bir şekilde ulaşmak mümkündür.\n",
    "\n",
    "Veri tabanı yönetim sisteminin standart programlaması olarak bilinen sql veri tabanı, visual basic programları içerisinde kullanılır. SQL komutları DDL komutları ve DML komutları olarak iki ayrı başlıkta toplanabilir.\n",
    "\n",
    "Yazılım sektöründe yer alan birçok kişi mysql veri tabanı sistemini mutlaka duymuştur. İlişkisel veri tabanı sistemi olarak kullanılan bu sistem çifte lisanslı olan bir yazılımdır. Bu sayede hem GPL’nin kısıtlamış olduğu alanlarda kullanılan hem de Genel Kamu Lisansı bulunan özgür bir yazılım olduğu anlaşılır. Windows programlarında kolay bir şekilde kullanılabilen mysql veri tabanı, yüksek performansı ile dikkat çekmektedir. Birçok geliştirme programında rahatlıkla kullanıldığı için en çok tercih edilen veri tabanı yazılımlarındandır."
   ]
  },
  {
   "cell_type": "markdown",
   "metadata": {},
   "source": [
    "## raw tables\n",
    "2-) Birincisi, ham tablolar raw tables basit, göreceli olarak işlenmemiş veriyi içerir. Bu tablo türündeki veri, operasyonel servisler tarafından üretilen orijinal veriye benzetilebilir, hatta neredeyse aynı olduğu söylenebilir. Örneğin, insanların yiyeceklerini satın alırken satın alabileceklerini kaydeden veriler, başlangıçta her bir kişinin adı ve tarihin ardından satın aldıkları şeyden oluşan uzun bir liste şeklinde olabilir. Bu tür verilerin manipüle edilmesi zordur ve standart veri analiz yazılımında kullanılabilmesi için genellikle bir şekilde işlenmesi gerekir. Henüz işlenmemiş veriler bazen ham veri olarak adlandırılır."
   ]
  },
  {
   "cell_type": "markdown",
   "metadata": {},
   "source": [
    "## processed tables"
   ]
  },
  {
   "cell_type": "markdown",
   "metadata": {},
   "source": [
    "2-) Alternatif olarak, verinin daha okunabilir ve kullanılabilir bir biçime dönüştürülmesi işlevinden geçirilmiş tablolar processed tables mevcuttur.Örneğin Facebook ‘a günde kaç milyon insan giriyor ve bu giren insanların bir şeyler paylaştıklarını, bir şeyler beğendiklerini varsayalım, ama nasıl dimi saniyede o kadar milyon veri. Dehşet geliyor kulağa. Adamlar demek ki veritabanı yönetim işlemini o kadar iyi yapıyorlar ki hiç bir yavaşlık hissetmiyoruz bile."
   ]
  },
  {
   "cell_type": "markdown",
   "metadata": {},
   "source": [
    "## roll-up tables"
   ]
  },
  {
   "cell_type": "markdown",
   "metadata": {},
   "source": [
    "2-) Son olarak, veriyi bir küme -bir bütün- haline getiren spesifik türde işlenmiş tablolar mevcuttur roll-up tables.Örneğin Bİrden çok gruplama gerektiren büyük veriler."
   ]
  },
  {
   "cell_type": "code",
   "execution_count": null,
   "metadata": {},
   "outputs": [],
   "source": []
  }
 ],
 "metadata": {
  "kernelspec": {
   "display_name": "Python 3",
   "language": "python",
   "name": "python3"
  },
  "language_info": {
   "codemirror_mode": {
    "name": "ipython",
    "version": 3
   },
   "file_extension": ".py",
   "mimetype": "text/x-python",
   "name": "python",
   "nbconvert_exporter": "python",
   "pygments_lexer": "ipython3",
   "version": "3.7.4"
  }
 },
 "nbformat": 4,
 "nbformat_minor": 2
}
